{
  "cells": [
    {
      "attachments": {},
      "cell_type": "markdown",
      "metadata": {},
      "source": [
        "### Importing necessary modules for data extraction"
      ]
    },
    {
      "cell_type": "code",
      "execution_count": 1,
      "metadata": {
        "id": "P_0BHKV8j-_B"
      },
      "outputs": [],
      "source": [
        "import pandas as pd\n",
        "import matplotlib.pyplot as plt"
      ]
    },
    {
      "attachments": {},
      "cell_type": "markdown",
      "metadata": {
        "id": "VN8q7TuSlLc6"
      },
      "source": [
        "### Loaded the dataset as dataframe using pandas"
      ]
    },
    {
      "cell_type": "code",
      "execution_count": 3,
      "metadata": {
        "colab": {
          "base_uri": "https://localhost:8080/",
          "height": 143
        },
        "id": "5piFJR-1kui3",
        "outputId": "41da2aa7-661d-4d3c-b831-7f4ae12c16cc"
      },
      "outputs": [
        {
          "data": {
            "text/html": [
              "<div>\n",
              "<style scoped>\n",
              "    .dataframe tbody tr th:only-of-type {\n",
              "        vertical-align: middle;\n",
              "    }\n",
              "\n",
              "    .dataframe tbody tr th {\n",
              "        vertical-align: top;\n",
              "    }\n",
              "\n",
              "    .dataframe thead th {\n",
              "        text-align: right;\n",
              "    }\n",
              "</style>\n",
              "<table border=\"1\" class=\"dataframe\">\n",
              "  <thead>\n",
              "    <tr style=\"text-align: right;\">\n",
              "      <th></th>\n",
              "      <th>customerID</th>\n",
              "      <th>gender</th>\n",
              "      <th>SeniorCitizen</th>\n",
              "      <th>Partner</th>\n",
              "      <th>Dependents</th>\n",
              "      <th>tenure</th>\n",
              "      <th>PhoneService</th>\n",
              "      <th>MultipleLines</th>\n",
              "      <th>InternetService</th>\n",
              "      <th>OnlineSecurity</th>\n",
              "      <th>...</th>\n",
              "      <th>DeviceProtection</th>\n",
              "      <th>TechSupport</th>\n",
              "      <th>StreamingTV</th>\n",
              "      <th>StreamingMovies</th>\n",
              "      <th>Contract</th>\n",
              "      <th>PaperlessBilling</th>\n",
              "      <th>PaymentMethod</th>\n",
              "      <th>MonthlyCharges</th>\n",
              "      <th>TotalCharges</th>\n",
              "      <th>Churn</th>\n",
              "    </tr>\n",
              "  </thead>\n",
              "  <tbody>\n",
              "    <tr>\n",
              "      <th>0</th>\n",
              "      <td>7590-VHVEG</td>\n",
              "      <td>Female</td>\n",
              "      <td>0</td>\n",
              "      <td>Yes</td>\n",
              "      <td>No</td>\n",
              "      <td>1</td>\n",
              "      <td>No</td>\n",
              "      <td>No phone service</td>\n",
              "      <td>DSL</td>\n",
              "      <td>No</td>\n",
              "      <td>...</td>\n",
              "      <td>No</td>\n",
              "      <td>No</td>\n",
              "      <td>No</td>\n",
              "      <td>No</td>\n",
              "      <td>Month-to-month</td>\n",
              "      <td>Yes</td>\n",
              "      <td>Electronic check</td>\n",
              "      <td>29.85</td>\n",
              "      <td>29.85</td>\n",
              "      <td>No</td>\n",
              "    </tr>\n",
              "    <tr>\n",
              "      <th>1</th>\n",
              "      <td>5575-GNVDE</td>\n",
              "      <td>Male</td>\n",
              "      <td>0</td>\n",
              "      <td>No</td>\n",
              "      <td>No</td>\n",
              "      <td>34</td>\n",
              "      <td>Yes</td>\n",
              "      <td>No</td>\n",
              "      <td>DSL</td>\n",
              "      <td>Yes</td>\n",
              "      <td>...</td>\n",
              "      <td>Yes</td>\n",
              "      <td>No</td>\n",
              "      <td>No</td>\n",
              "      <td>No</td>\n",
              "      <td>One year</td>\n",
              "      <td>No</td>\n",
              "      <td>Mailed check</td>\n",
              "      <td>56.95</td>\n",
              "      <td>1889.5</td>\n",
              "      <td>No</td>\n",
              "    </tr>\n",
              "    <tr>\n",
              "      <th>2</th>\n",
              "      <td>3668-QPYBK</td>\n",
              "      <td>Male</td>\n",
              "      <td>0</td>\n",
              "      <td>No</td>\n",
              "      <td>No</td>\n",
              "      <td>2</td>\n",
              "      <td>Yes</td>\n",
              "      <td>No</td>\n",
              "      <td>DSL</td>\n",
              "      <td>Yes</td>\n",
              "      <td>...</td>\n",
              "      <td>No</td>\n",
              "      <td>No</td>\n",
              "      <td>No</td>\n",
              "      <td>No</td>\n",
              "      <td>Month-to-month</td>\n",
              "      <td>Yes</td>\n",
              "      <td>Mailed check</td>\n",
              "      <td>53.85</td>\n",
              "      <td>108.15</td>\n",
              "      <td>Yes</td>\n",
              "    </tr>\n",
              "    <tr>\n",
              "      <th>3</th>\n",
              "      <td>7795-CFOCW</td>\n",
              "      <td>Male</td>\n",
              "      <td>0</td>\n",
              "      <td>No</td>\n",
              "      <td>No</td>\n",
              "      <td>45</td>\n",
              "      <td>No</td>\n",
              "      <td>No phone service</td>\n",
              "      <td>DSL</td>\n",
              "      <td>Yes</td>\n",
              "      <td>...</td>\n",
              "      <td>Yes</td>\n",
              "      <td>Yes</td>\n",
              "      <td>No</td>\n",
              "      <td>No</td>\n",
              "      <td>One year</td>\n",
              "      <td>No</td>\n",
              "      <td>Bank transfer (automatic)</td>\n",
              "      <td>42.30</td>\n",
              "      <td>1840.75</td>\n",
              "      <td>No</td>\n",
              "    </tr>\n",
              "    <tr>\n",
              "      <th>4</th>\n",
              "      <td>9237-HQITU</td>\n",
              "      <td>Female</td>\n",
              "      <td>0</td>\n",
              "      <td>No</td>\n",
              "      <td>No</td>\n",
              "      <td>2</td>\n",
              "      <td>Yes</td>\n",
              "      <td>No</td>\n",
              "      <td>Fiber optic</td>\n",
              "      <td>No</td>\n",
              "      <td>...</td>\n",
              "      <td>No</td>\n",
              "      <td>No</td>\n",
              "      <td>No</td>\n",
              "      <td>No</td>\n",
              "      <td>Month-to-month</td>\n",
              "      <td>Yes</td>\n",
              "      <td>Electronic check</td>\n",
              "      <td>70.70</td>\n",
              "      <td>151.65</td>\n",
              "      <td>Yes</td>\n",
              "    </tr>\n",
              "  </tbody>\n",
              "</table>\n",
              "<p>5 rows × 21 columns</p>\n",
              "</div>"
            ],
            "text/plain": [
              "   customerID  gender  SeniorCitizen Partner Dependents  tenure PhoneService  \\\n",
              "0  7590-VHVEG  Female              0     Yes         No       1           No   \n",
              "1  5575-GNVDE    Male              0      No         No      34          Yes   \n",
              "2  3668-QPYBK    Male              0      No         No       2          Yes   \n",
              "3  7795-CFOCW    Male              0      No         No      45           No   \n",
              "4  9237-HQITU  Female              0      No         No       2          Yes   \n",
              "\n",
              "      MultipleLines InternetService OnlineSecurity  ... DeviceProtection  \\\n",
              "0  No phone service             DSL             No  ...               No   \n",
              "1                No             DSL            Yes  ...              Yes   \n",
              "2                No             DSL            Yes  ...               No   \n",
              "3  No phone service             DSL            Yes  ...              Yes   \n",
              "4                No     Fiber optic             No  ...               No   \n",
              "\n",
              "  TechSupport StreamingTV StreamingMovies        Contract PaperlessBilling  \\\n",
              "0          No          No              No  Month-to-month              Yes   \n",
              "1          No          No              No        One year               No   \n",
              "2          No          No              No  Month-to-month              Yes   \n",
              "3         Yes          No              No        One year               No   \n",
              "4          No          No              No  Month-to-month              Yes   \n",
              "\n",
              "               PaymentMethod MonthlyCharges  TotalCharges Churn  \n",
              "0           Electronic check          29.85         29.85    No  \n",
              "1               Mailed check          56.95        1889.5    No  \n",
              "2               Mailed check          53.85        108.15   Yes  \n",
              "3  Bank transfer (automatic)          42.30       1840.75    No  \n",
              "4           Electronic check          70.70        151.65   Yes  \n",
              "\n",
              "[5 rows x 21 columns]"
            ]
          },
          "execution_count": 3,
          "metadata": {},
          "output_type": "execute_result"
        }
      ],
      "source": [
        "telco = pd.read_csv('./dataset.csv')\n",
        "telco.head()"
      ]
    },
    {
      "attachments": {},
      "cell_type": "markdown",
      "metadata": {
        "id": "xX_gf0lVlLap"
      },
      "source": [
        "### Checking the shape and missing values"
      ]
    },
    {
      "cell_type": "code",
      "execution_count": 5,
      "metadata": {
        "colab": {
          "base_uri": "https://localhost:8080/"
        },
        "id": "aWo3DeLilZ2a",
        "outputId": "f2edd971-ed03-437e-fef6-64332891a355"
      },
      "outputs": [
        {
          "data": {
            "text/plain": [
              "(7043, 21)"
            ]
          },
          "execution_count": 5,
          "metadata": {},
          "output_type": "execute_result"
        }
      ],
      "source": [
        "telco.shape"
      ]
    },
    {
      "cell_type": "code",
      "execution_count": 4,
      "metadata": {
        "colab": {
          "base_uri": "https://localhost:8080/"
        },
        "id": "Y9Vuw7yvmY1j",
        "outputId": "de32d7f4-0fd9-4179-aa8c-a4ca9a39ab39"
      },
      "outputs": [
        {
          "data": {
            "text/plain": [
              "customerID          0\n",
              "gender              0\n",
              "SeniorCitizen       0\n",
              "Partner             0\n",
              "Dependents          0\n",
              "tenure              0\n",
              "PhoneService        0\n",
              "MultipleLines       0\n",
              "InternetService     0\n",
              "OnlineSecurity      0\n",
              "OnlineBackup        0\n",
              "DeviceProtection    0\n",
              "TechSupport         0\n",
              "StreamingTV         0\n",
              "StreamingMovies     0\n",
              "Contract            0\n",
              "PaperlessBilling    0\n",
              "PaymentMethod       0\n",
              "MonthlyCharges      0\n",
              "TotalCharges        0\n",
              "Churn               0\n",
              "dtype: int64"
            ]
          },
          "execution_count": 4,
          "metadata": {},
          "output_type": "execute_result"
        }
      ],
      "source": [
        "telco.isnull().sum()"
      ]
    },
    {
      "attachments": {},
      "cell_type": "markdown",
      "metadata": {},
      "source": [
        "### Dropping the CustomerID\n",
        "- CustomerID is a randomly generated string that has no conversion opportunity.\n",
        "- Also this feature has no significance over any feature."
      ]
    },
    {
      "cell_type": "code",
      "execution_count": 6,
      "metadata": {
        "id": "3qx5y6LImzZM"
      },
      "outputs": [
        {
          "data": {
            "text/html": [
              "<div>\n",
              "<style scoped>\n",
              "    .dataframe tbody tr th:only-of-type {\n",
              "        vertical-align: middle;\n",
              "    }\n",
              "\n",
              "    .dataframe tbody tr th {\n",
              "        vertical-align: top;\n",
              "    }\n",
              "\n",
              "    .dataframe thead th {\n",
              "        text-align: right;\n",
              "    }\n",
              "</style>\n",
              "<table border=\"1\" class=\"dataframe\">\n",
              "  <thead>\n",
              "    <tr style=\"text-align: right;\">\n",
              "      <th></th>\n",
              "      <th>gender</th>\n",
              "      <th>SeniorCitizen</th>\n",
              "      <th>Partner</th>\n",
              "      <th>Dependents</th>\n",
              "      <th>tenure</th>\n",
              "      <th>PhoneService</th>\n",
              "      <th>MultipleLines</th>\n",
              "      <th>InternetService</th>\n",
              "      <th>OnlineSecurity</th>\n",
              "      <th>OnlineBackup</th>\n",
              "      <th>DeviceProtection</th>\n",
              "      <th>TechSupport</th>\n",
              "      <th>StreamingTV</th>\n",
              "      <th>StreamingMovies</th>\n",
              "      <th>Contract</th>\n",
              "      <th>PaperlessBilling</th>\n",
              "      <th>PaymentMethod</th>\n",
              "      <th>MonthlyCharges</th>\n",
              "      <th>TotalCharges</th>\n",
              "      <th>Churn</th>\n",
              "    </tr>\n",
              "  </thead>\n",
              "  <tbody>\n",
              "    <tr>\n",
              "      <th>0</th>\n",
              "      <td>Female</td>\n",
              "      <td>0</td>\n",
              "      <td>Yes</td>\n",
              "      <td>No</td>\n",
              "      <td>1</td>\n",
              "      <td>No</td>\n",
              "      <td>No phone service</td>\n",
              "      <td>DSL</td>\n",
              "      <td>No</td>\n",
              "      <td>Yes</td>\n",
              "      <td>No</td>\n",
              "      <td>No</td>\n",
              "      <td>No</td>\n",
              "      <td>No</td>\n",
              "      <td>Month-to-month</td>\n",
              "      <td>Yes</td>\n",
              "      <td>Electronic check</td>\n",
              "      <td>29.85</td>\n",
              "      <td>29.85</td>\n",
              "      <td>No</td>\n",
              "    </tr>\n",
              "    <tr>\n",
              "      <th>1</th>\n",
              "      <td>Male</td>\n",
              "      <td>0</td>\n",
              "      <td>No</td>\n",
              "      <td>No</td>\n",
              "      <td>34</td>\n",
              "      <td>Yes</td>\n",
              "      <td>No</td>\n",
              "      <td>DSL</td>\n",
              "      <td>Yes</td>\n",
              "      <td>No</td>\n",
              "      <td>Yes</td>\n",
              "      <td>No</td>\n",
              "      <td>No</td>\n",
              "      <td>No</td>\n",
              "      <td>One year</td>\n",
              "      <td>No</td>\n",
              "      <td>Mailed check</td>\n",
              "      <td>56.95</td>\n",
              "      <td>1889.5</td>\n",
              "      <td>No</td>\n",
              "    </tr>\n",
              "    <tr>\n",
              "      <th>2</th>\n",
              "      <td>Male</td>\n",
              "      <td>0</td>\n",
              "      <td>No</td>\n",
              "      <td>No</td>\n",
              "      <td>2</td>\n",
              "      <td>Yes</td>\n",
              "      <td>No</td>\n",
              "      <td>DSL</td>\n",
              "      <td>Yes</td>\n",
              "      <td>Yes</td>\n",
              "      <td>No</td>\n",
              "      <td>No</td>\n",
              "      <td>No</td>\n",
              "      <td>No</td>\n",
              "      <td>Month-to-month</td>\n",
              "      <td>Yes</td>\n",
              "      <td>Mailed check</td>\n",
              "      <td>53.85</td>\n",
              "      <td>108.15</td>\n",
              "      <td>Yes</td>\n",
              "    </tr>\n",
              "    <tr>\n",
              "      <th>3</th>\n",
              "      <td>Male</td>\n",
              "      <td>0</td>\n",
              "      <td>No</td>\n",
              "      <td>No</td>\n",
              "      <td>45</td>\n",
              "      <td>No</td>\n",
              "      <td>No phone service</td>\n",
              "      <td>DSL</td>\n",
              "      <td>Yes</td>\n",
              "      <td>No</td>\n",
              "      <td>Yes</td>\n",
              "      <td>Yes</td>\n",
              "      <td>No</td>\n",
              "      <td>No</td>\n",
              "      <td>One year</td>\n",
              "      <td>No</td>\n",
              "      <td>Bank transfer (automatic)</td>\n",
              "      <td>42.30</td>\n",
              "      <td>1840.75</td>\n",
              "      <td>No</td>\n",
              "    </tr>\n",
              "    <tr>\n",
              "      <th>4</th>\n",
              "      <td>Female</td>\n",
              "      <td>0</td>\n",
              "      <td>No</td>\n",
              "      <td>No</td>\n",
              "      <td>2</td>\n",
              "      <td>Yes</td>\n",
              "      <td>No</td>\n",
              "      <td>Fiber optic</td>\n",
              "      <td>No</td>\n",
              "      <td>No</td>\n",
              "      <td>No</td>\n",
              "      <td>No</td>\n",
              "      <td>No</td>\n",
              "      <td>No</td>\n",
              "      <td>Month-to-month</td>\n",
              "      <td>Yes</td>\n",
              "      <td>Electronic check</td>\n",
              "      <td>70.70</td>\n",
              "      <td>151.65</td>\n",
              "      <td>Yes</td>\n",
              "    </tr>\n",
              "  </tbody>\n",
              "</table>\n",
              "</div>"
            ],
            "text/plain": [
              "   gender  SeniorCitizen Partner Dependents  tenure PhoneService  \\\n",
              "0  Female              0     Yes         No       1           No   \n",
              "1    Male              0      No         No      34          Yes   \n",
              "2    Male              0      No         No       2          Yes   \n",
              "3    Male              0      No         No      45           No   \n",
              "4  Female              0      No         No       2          Yes   \n",
              "\n",
              "      MultipleLines InternetService OnlineSecurity OnlineBackup  \\\n",
              "0  No phone service             DSL             No          Yes   \n",
              "1                No             DSL            Yes           No   \n",
              "2                No             DSL            Yes          Yes   \n",
              "3  No phone service             DSL            Yes           No   \n",
              "4                No     Fiber optic             No           No   \n",
              "\n",
              "  DeviceProtection TechSupport StreamingTV StreamingMovies        Contract  \\\n",
              "0               No          No          No              No  Month-to-month   \n",
              "1              Yes          No          No              No        One year   \n",
              "2               No          No          No              No  Month-to-month   \n",
              "3              Yes         Yes          No              No        One year   \n",
              "4               No          No          No              No  Month-to-month   \n",
              "\n",
              "  PaperlessBilling              PaymentMethod  MonthlyCharges TotalCharges  \\\n",
              "0              Yes           Electronic check           29.85        29.85   \n",
              "1               No               Mailed check           56.95       1889.5   \n",
              "2              Yes               Mailed check           53.85       108.15   \n",
              "3               No  Bank transfer (automatic)           42.30      1840.75   \n",
              "4              Yes           Electronic check           70.70       151.65   \n",
              "\n",
              "  Churn  \n",
              "0    No  \n",
              "1    No  \n",
              "2   Yes  \n",
              "3    No  \n",
              "4   Yes  "
            ]
          },
          "execution_count": 6,
          "metadata": {},
          "output_type": "execute_result"
        }
      ],
      "source": [
        "telco.drop('customerID', inplace=True,axis=1)\n",
        "telco.head()"
      ]
    },
    {
      "attachments": {},
      "cell_type": "markdown",
      "metadata": {},
      "source": [
        "### Checking the data type of the features of the dataset"
      ]
    },
    {
      "cell_type": "code",
      "execution_count": 7,
      "metadata": {
        "colab": {
          "base_uri": "https://localhost:8080/"
        },
        "id": "4_lupwPWolT9",
        "outputId": "cb6542e7-3f57-406d-d39c-c4a2169b8311"
      },
      "outputs": [
        {
          "data": {
            "text/plain": [
              "gender               object\n",
              "SeniorCitizen         int64\n",
              "Partner              object\n",
              "Dependents           object\n",
              "tenure                int64\n",
              "PhoneService         object\n",
              "MultipleLines        object\n",
              "InternetService      object\n",
              "OnlineSecurity       object\n",
              "OnlineBackup         object\n",
              "DeviceProtection     object\n",
              "TechSupport          object\n",
              "StreamingTV          object\n",
              "StreamingMovies      object\n",
              "Contract             object\n",
              "PaperlessBilling     object\n",
              "PaymentMethod        object\n",
              "MonthlyCharges      float64\n",
              "TotalCharges         object\n",
              "Churn                object\n",
              "dtype: object"
            ]
          },
          "execution_count": 7,
          "metadata": {},
          "output_type": "execute_result"
        }
      ],
      "source": [
        "telco.dtypes"
      ]
    },
    {
      "attachments": {},
      "cell_type": "markdown",
      "metadata": {},
      "source": [
        "### Encoding Features\n",
        "- The following features have a data type of object which cannot be used.\n",
        "- We have encoded the feature values from object to a numerical value"
      ]
    },
    {
      "cell_type": "code",
      "execution_count": 8,
      "metadata": {
        "colab": {
          "base_uri": "https://localhost:8080/"
        },
        "id": "qLEkMj5polbH",
        "outputId": "3c58a9e3-2069-4476-9e37-0e394e471f46"
      },
      "outputs": [
        {
          "data": {
            "text/html": [
              "<div>\n",
              "<style scoped>\n",
              "    .dataframe tbody tr th:only-of-type {\n",
              "        vertical-align: middle;\n",
              "    }\n",
              "\n",
              "    .dataframe tbody tr th {\n",
              "        vertical-align: top;\n",
              "    }\n",
              "\n",
              "    .dataframe thead th {\n",
              "        text-align: right;\n",
              "    }\n",
              "</style>\n",
              "<table border=\"1\" class=\"dataframe\">\n",
              "  <thead>\n",
              "    <tr style=\"text-align: right;\">\n",
              "      <th></th>\n",
              "      <th>gender</th>\n",
              "      <th>SeniorCitizen</th>\n",
              "      <th>Partner</th>\n",
              "      <th>Dependents</th>\n",
              "      <th>tenure</th>\n",
              "      <th>PhoneService</th>\n",
              "      <th>MultipleLines</th>\n",
              "      <th>InternetService</th>\n",
              "      <th>OnlineSecurity</th>\n",
              "      <th>OnlineBackup</th>\n",
              "      <th>DeviceProtection</th>\n",
              "      <th>TechSupport</th>\n",
              "      <th>StreamingTV</th>\n",
              "      <th>StreamingMovies</th>\n",
              "      <th>Contract</th>\n",
              "      <th>PaperlessBilling</th>\n",
              "      <th>PaymentMethod</th>\n",
              "      <th>MonthlyCharges</th>\n",
              "      <th>TotalCharges</th>\n",
              "      <th>Churn</th>\n",
              "    </tr>\n",
              "  </thead>\n",
              "  <tbody>\n",
              "    <tr>\n",
              "      <th>0</th>\n",
              "      <td>0</td>\n",
              "      <td>0</td>\n",
              "      <td>1</td>\n",
              "      <td>0</td>\n",
              "      <td>1</td>\n",
              "      <td>0</td>\n",
              "      <td>1</td>\n",
              "      <td>0</td>\n",
              "      <td>0</td>\n",
              "      <td>2</td>\n",
              "      <td>0</td>\n",
              "      <td>0</td>\n",
              "      <td>0</td>\n",
              "      <td>0</td>\n",
              "      <td>0</td>\n",
              "      <td>1</td>\n",
              "      <td>2</td>\n",
              "      <td>29.85</td>\n",
              "      <td>29.85</td>\n",
              "      <td>0</td>\n",
              "    </tr>\n",
              "    <tr>\n",
              "      <th>1</th>\n",
              "      <td>1</td>\n",
              "      <td>0</td>\n",
              "      <td>0</td>\n",
              "      <td>0</td>\n",
              "      <td>34</td>\n",
              "      <td>1</td>\n",
              "      <td>0</td>\n",
              "      <td>0</td>\n",
              "      <td>2</td>\n",
              "      <td>0</td>\n",
              "      <td>2</td>\n",
              "      <td>0</td>\n",
              "      <td>0</td>\n",
              "      <td>0</td>\n",
              "      <td>1</td>\n",
              "      <td>0</td>\n",
              "      <td>3</td>\n",
              "      <td>56.95</td>\n",
              "      <td>1889.50</td>\n",
              "      <td>0</td>\n",
              "    </tr>\n",
              "    <tr>\n",
              "      <th>2</th>\n",
              "      <td>1</td>\n",
              "      <td>0</td>\n",
              "      <td>0</td>\n",
              "      <td>0</td>\n",
              "      <td>2</td>\n",
              "      <td>1</td>\n",
              "      <td>0</td>\n",
              "      <td>0</td>\n",
              "      <td>2</td>\n",
              "      <td>2</td>\n",
              "      <td>0</td>\n",
              "      <td>0</td>\n",
              "      <td>0</td>\n",
              "      <td>0</td>\n",
              "      <td>0</td>\n",
              "      <td>1</td>\n",
              "      <td>3</td>\n",
              "      <td>53.85</td>\n",
              "      <td>108.15</td>\n",
              "      <td>1</td>\n",
              "    </tr>\n",
              "    <tr>\n",
              "      <th>3</th>\n",
              "      <td>1</td>\n",
              "      <td>0</td>\n",
              "      <td>0</td>\n",
              "      <td>0</td>\n",
              "      <td>45</td>\n",
              "      <td>0</td>\n",
              "      <td>1</td>\n",
              "      <td>0</td>\n",
              "      <td>2</td>\n",
              "      <td>0</td>\n",
              "      <td>2</td>\n",
              "      <td>2</td>\n",
              "      <td>0</td>\n",
              "      <td>0</td>\n",
              "      <td>1</td>\n",
              "      <td>0</td>\n",
              "      <td>0</td>\n",
              "      <td>42.30</td>\n",
              "      <td>1840.75</td>\n",
              "      <td>0</td>\n",
              "    </tr>\n",
              "    <tr>\n",
              "      <th>4</th>\n",
              "      <td>0</td>\n",
              "      <td>0</td>\n",
              "      <td>0</td>\n",
              "      <td>0</td>\n",
              "      <td>2</td>\n",
              "      <td>1</td>\n",
              "      <td>0</td>\n",
              "      <td>1</td>\n",
              "      <td>0</td>\n",
              "      <td>0</td>\n",
              "      <td>0</td>\n",
              "      <td>0</td>\n",
              "      <td>0</td>\n",
              "      <td>0</td>\n",
              "      <td>0</td>\n",
              "      <td>1</td>\n",
              "      <td>2</td>\n",
              "      <td>70.70</td>\n",
              "      <td>151.65</td>\n",
              "      <td>1</td>\n",
              "    </tr>\n",
              "  </tbody>\n",
              "</table>\n",
              "</div>"
            ],
            "text/plain": [
              "   gender  SeniorCitizen  Partner  Dependents  tenure  PhoneService  \\\n",
              "0       0              0        1           0       1             0   \n",
              "1       1              0        0           0      34             1   \n",
              "2       1              0        0           0       2             1   \n",
              "3       1              0        0           0      45             0   \n",
              "4       0              0        0           0       2             1   \n",
              "\n",
              "   MultipleLines  InternetService  OnlineSecurity  OnlineBackup  \\\n",
              "0              1                0               0             2   \n",
              "1              0                0               2             0   \n",
              "2              0                0               2             2   \n",
              "3              1                0               2             0   \n",
              "4              0                1               0             0   \n",
              "\n",
              "   DeviceProtection  TechSupport  StreamingTV  StreamingMovies  Contract  \\\n",
              "0                 0            0            0                0         0   \n",
              "1                 2            0            0                0         1   \n",
              "2                 0            0            0                0         0   \n",
              "3                 2            2            0                0         1   \n",
              "4                 0            0            0                0         0   \n",
              "\n",
              "   PaperlessBilling  PaymentMethod  MonthlyCharges  TotalCharges  Churn  \n",
              "0                 1              2           29.85         29.85      0  \n",
              "1                 0              3           56.95       1889.50      0  \n",
              "2                 1              3           53.85        108.15      1  \n",
              "3                 0              0           42.30       1840.75      0  \n",
              "4                 1              2           70.70        151.65      1  "
            ]
          },
          "execution_count": 8,
          "metadata": {},
          "output_type": "execute_result"
        }
      ],
      "source": [
        "from sklearn.preprocessing import LabelEncoder\n",
        "\n",
        "enc = LabelEncoder()\n",
        "\n",
        "telco['gender']         = enc.fit_transform(telco['gender'])\n",
        "telco['Dependents']     = enc.fit_transform(telco['Dependents'])\n",
        "telco['Partner']        = enc.fit_transform(telco['Partner'])\n",
        "telco['PhoneService']   = enc.fit_transform(telco['PhoneService'])\n",
        "telco['MultipleLines']  = enc.fit_transform(telco['MultipleLines'])\n",
        "telco['InternetService'] = enc.fit_transform(telco['InternetService'])\n",
        "telco['OnlineSecurity'] = enc.fit_transform(telco['OnlineSecurity'])\n",
        "telco['OnlineBackup']   = enc.fit_transform(telco['OnlineBackup'])\n",
        "telco['DeviceProtection'] = enc.fit_transform(telco['DeviceProtection'])\n",
        "telco['TechSupport']    = enc.fit_transform(telco['TechSupport'])\n",
        "telco['StreamingTV']    = enc.fit_transform(telco['StreamingTV'])\n",
        "telco['StreamingMovies'] = enc.fit_transform(telco['StreamingMovies'])\n",
        "telco['Contract']       = enc.fit_transform(telco['Contract'])\n",
        "telco['PaperlessBilling'] = enc.fit_transform(telco['PaperlessBilling'])\n",
        "telco['PaymentMethod']  = enc.fit_transform(telco['PaymentMethod'])\n",
        "telco['Churn']          = enc.fit_transform(telco['Churn'])\n",
        "telco['TotalCharges']   = pd.to_numeric(telco['TotalCharges'],errors='coerce')\n",
        "telco['Churn']          = enc.fit_transform(telco['Churn'])\n",
        "\n",
        "telco.head()   ### SHowing the result of change\n",
        "     "
      ]
    },
    {
      "attachments": {},
      "cell_type": "markdown",
      "metadata": {},
      "source": [
        "### Test Train Data Splitting"
      ]
    },
    {
      "cell_type": "code",
      "execution_count": 9,
      "metadata": {
        "colab": {
          "base_uri": "https://localhost:8080/"
        },
        "id": "xiq3QJRlolWV",
        "outputId": "5fb2bd7f-21c3-4ef7-dea7-faa277293852"
      },
      "outputs": [
        {
          "name": "stdout",
          "output_type": "stream",
          "text": [
            "      gender  SeniorCitizen  Partner  Dependents  tenure  PhoneService  \\\n",
            "0          0              0        1           0       1             0   \n",
            "1          1              0        0           0      34             1   \n",
            "2          1              0        0           0       2             1   \n",
            "3          1              0        0           0      45             0   \n",
            "4          0              0        0           0       2             1   \n",
            "...      ...            ...      ...         ...     ...           ...   \n",
            "7038       1              0        1           1      24             1   \n",
            "7039       0              0        1           1      72             1   \n",
            "7040       0              0        1           1      11             0   \n",
            "7041       1              1        1           0       4             1   \n",
            "7042       1              0        0           0      66             1   \n",
            "\n",
            "      MultipleLines  InternetService  OnlineSecurity  OnlineBackup  \\\n",
            "0                 1                0               0             2   \n",
            "1                 0                0               2             0   \n",
            "2                 0                0               2             2   \n",
            "3                 1                0               2             0   \n",
            "4                 0                1               0             0   \n",
            "...             ...              ...             ...           ...   \n",
            "7038              2                0               2             0   \n",
            "7039              2                1               0             2   \n",
            "7040              1                0               2             0   \n",
            "7041              2                1               0             0   \n",
            "7042              0                1               2             0   \n",
            "\n",
            "      DeviceProtection  TechSupport  StreamingTV  StreamingMovies  Contract  \\\n",
            "0                    0            0            0                0         0   \n",
            "1                    2            0            0                0         1   \n",
            "2                    0            0            0                0         0   \n",
            "3                    2            2            0                0         1   \n",
            "4                    0            0            0                0         0   \n",
            "...                ...          ...          ...              ...       ...   \n",
            "7038                 2            2            2                2         1   \n",
            "7039                 2            0            2                2         1   \n",
            "7040                 0            0            0                0         0   \n",
            "7041                 0            0            0                0         0   \n",
            "7042                 2            2            2                2         2   \n",
            "\n",
            "      PaperlessBilling  PaymentMethod  MonthlyCharges  \n",
            "0                    1              2           29.85  \n",
            "1                    0              3           56.95  \n",
            "2                    1              3           53.85  \n",
            "3                    0              0           42.30  \n",
            "4                    1              2           70.70  \n",
            "...                ...            ...             ...  \n",
            "7038                 1              3           84.80  \n",
            "7039                 1              1          103.20  \n",
            "7040                 1              2           29.60  \n",
            "7041                 1              3           74.40  \n",
            "7042                 1              0          105.65  \n",
            "\n",
            "[7043 rows x 18 columns] 0       0\n",
            "1       0\n",
            "2       1\n",
            "3       0\n",
            "4       1\n",
            "       ..\n",
            "7038    0\n",
            "7039    0\n",
            "7040    0\n",
            "7041    1\n",
            "7042    0\n",
            "Name: Churn, Length: 7043, dtype: int64\n",
            "(4930, 18)\n",
            "(2113, 18)\n"
          ]
        }
      ],
      "source": [
        "from sklearn.model_selection import train_test_split\n",
        "\n",
        "x = telco.iloc[:, :-2]\n",
        "y = telco.iloc[0:, -1]\n",
        "print(x,y)\n",
        "x_train, x_test, y_train, y_test = train_test_split(x, y, test_size=0.3, random_state=42)\n",
        "\n",
        "print(x_train.shape)\n",
        "print(x_test.shape)"
      ]
    },
    {
      "cell_type": "code",
      "execution_count": 10,
      "metadata": {},
      "outputs": [
        {
          "data": {
            "text/plain": [
              "gender                int32\n",
              "SeniorCitizen         int64\n",
              "Partner               int32\n",
              "Dependents            int32\n",
              "tenure                int64\n",
              "PhoneService          int32\n",
              "MultipleLines         int32\n",
              "InternetService       int32\n",
              "OnlineSecurity        int32\n",
              "OnlineBackup          int32\n",
              "DeviceProtection      int32\n",
              "TechSupport           int32\n",
              "StreamingTV           int32\n",
              "StreamingMovies       int32\n",
              "Contract              int32\n",
              "PaperlessBilling      int32\n",
              "PaymentMethod         int32\n",
              "MonthlyCharges      float64\n",
              "TotalCharges        float64\n",
              "Churn                 int64\n",
              "dtype: object"
            ]
          },
          "execution_count": 10,
          "metadata": {},
          "output_type": "execute_result"
        }
      ],
      "source": [
        "telco.dropna(inplace=True)\n",
        "telco.dtypes\n",
        "# telco.isnull().sum()"
      ]
    },
    {
      "cell_type": "code",
      "execution_count": 11,
      "metadata": {
        "colab": {
          "base_uri": "https://localhost:8080/"
        },
        "id": "PoLZ2F7a9D5y",
        "outputId": "e4e86bd9-dbdd-43b5-ce8c-4350f3f1583e"
      },
      "outputs": [
        {
          "name": "stdout",
          "output_type": "stream",
          "text": [
            "per-feature minimum before scaling:\n",
            " gender               0.00\n",
            "SeniorCitizen        0.00\n",
            "Partner              0.00\n",
            "Dependents           0.00\n",
            "tenure               0.00\n",
            "PhoneService         0.00\n",
            "MultipleLines        0.00\n",
            "InternetService      0.00\n",
            "OnlineSecurity       0.00\n",
            "OnlineBackup         0.00\n",
            "DeviceProtection     0.00\n",
            "TechSupport          0.00\n",
            "StreamingTV          0.00\n",
            "StreamingMovies      0.00\n",
            "Contract             0.00\n",
            "PaperlessBilling     0.00\n",
            "PaymentMethod        0.00\n",
            "MonthlyCharges      18.25\n",
            "dtype: float64\n",
            "per-feature maximum before scaling:\n",
            " gender                1.0\n",
            "SeniorCitizen         1.0\n",
            "Partner               1.0\n",
            "Dependents            1.0\n",
            "tenure               72.0\n",
            "PhoneService          1.0\n",
            "MultipleLines         2.0\n",
            "InternetService       2.0\n",
            "OnlineSecurity        2.0\n",
            "OnlineBackup          2.0\n",
            "DeviceProtection      2.0\n",
            "TechSupport           2.0\n",
            "StreamingTV           2.0\n",
            "StreamingMovies       2.0\n",
            "Contract              2.0\n",
            "PaperlessBilling      1.0\n",
            "PaymentMethod         3.0\n",
            "MonthlyCharges      118.6\n",
            "dtype: float64\n"
          ]
        }
      ],
      "source": [
        "print(\"per-feature minimum before scaling:\\n {}\".format(x_train.min(axis=0)))\n",
        "print(\"per-feature maximum before scaling:\\n {}\".format(x_train.max(axis=0)))"
      ]
    },
    {
      "attachments": {},
      "cell_type": "markdown",
      "metadata": {},
      "source": [
        "## Scalling the retrieved features\n",
        "- We will be using MinMaxScaler algorithm here"
      ]
    },
    {
      "cell_type": "code",
      "execution_count": 12,
      "metadata": {
        "colab": {
          "base_uri": "https://localhost:8080/"
        },
        "id": "b-z0q9bE9D8R",
        "outputId": "c1bde1f6-90a4-420a-954d-44be1dbace81"
      },
      "outputs": [
        {
          "name": "stdout",
          "output_type": "stream",
          "text": [
            "per-feature minimum after scaling:\n",
            " [0. 0. 0. 0. 0. 0. 0. 0. 0. 0. 0. 0. 0. 0. 0. 0. 0. 0.]\n",
            "per-feature maximum after scaling:\n",
            " [1. 1. 1. 1. 1. 1. 1. 1. 1. 1. 1. 1. 1. 1. 1. 1. 1. 1.]\n"
          ]
        }
      ],
      "source": [
        "from sklearn.preprocessing import MinMaxScaler\n",
        "\n",
        "scaler = MinMaxScaler()\n",
        "\n",
        "scaler.fit(x_train)\n",
        "x_test_scaled = scaler.transform(x_test)\n",
        "x_train_scaled = scaler.transform(x_train)\n",
        "print(\"per-feature minimum after scaling:\\n {}\".format(\n",
        "    x_train_scaled.min(axis=0)))\n",
        "print(\"per-feature maximum after scaling:\\n {}\".format(\n",
        "    x_train_scaled.max(axis=0)))"
      ]
    },
    {
      "attachments": {},
      "cell_type": "markdown",
      "metadata": {},
      "source": [
        "### KNN Classifier"
      ]
    },
    {
      "cell_type": "code",
      "execution_count": 13,
      "metadata": {
        "colab": {
          "base_uri": "https://localhost:8080/"
        },
        "id": "AbfG3HkZ9D-x",
        "outputId": "64f8a135-42f8-4b28-85b3-d8dff4b32de2"
      },
      "outputs": [
        {
          "name": "stdout",
          "output_type": "stream",
          "text": [
            "Train set accuracy: 0.84\n",
            "Test set accuracy: 0.78\n"
          ]
        }
      ],
      "source": [
        "from sklearn.neighbors import KNeighborsClassifier\n",
        "x_train, x_test, y_train, y_test = train_test_split(x, y, test_size=0.3, random_state=42)\n",
        "knn=KNeighborsClassifier()\n",
        "\n",
        "knn.fit(x_train, y_train)\n",
        "\n",
        "print(\"Train set accuracy: {:.2f}\".format(knn.score(x_train, y_train)))\n",
        "print(\"Test set accuracy: {:.2f}\".format(knn.score(x_test, y_test)))\n",
        "\n",
        "knnTrain = knn.score(x_train, y_train)\n",
        "knnTest  = knn.score(x_test, y_test)"
      ]
    },
    {
      "attachments": {},
      "cell_type": "markdown",
      "metadata": {},
      "source": [
        "### Confusion Matrix for KNN Classifier"
      ]
    },
    {
      "cell_type": "code",
      "execution_count": 18,
      "metadata": {},
      "outputs": [
        {
          "name": "stdout",
          "output_type": "stream",
          "text": [
            "[[1346  193]\n",
            " [ 282  292]]\n"
          ]
        }
      ],
      "source": [
        "from sklearn.metrics import confusion_matrix\n",
        "from sklearn.model_selection import train_test_split\n",
        "\n",
        "# Split the dataset and fitting the model\n",
        "x_train, x_test, y_train, y_test = train_test_split(x, y, test_size=0.3, random_state=42)\n",
        "knn.fit(x_train, y_train)\n",
        "\n",
        "# Make predictions on the testing set\n",
        "y_pred = knn.predict(x_test)\n",
        "\n",
        "# Creating confusion matrix for logistic regression\n",
        "confusion_mat = confusion_matrix(y_test, y_pred)\n",
        "print(confusion_mat)\n"
      ]
    },
    {
      "attachments": {},
      "cell_type": "markdown",
      "metadata": {},
      "source": [
        "### Decision Tree Classifier"
      ]
    },
    {
      "cell_type": "code",
      "execution_count": 14,
      "metadata": {
        "id": "MkEmGuI99EDh"
      },
      "outputs": [
        {
          "name": "stdout",
          "output_type": "stream",
          "text": [
            "Accuracy on training set: 0.998\n",
            "Accuracy on test set: 0.723\n"
          ]
        }
      ],
      "source": [
        "from sklearn.tree import DecisionTreeClassifier\n",
        "tree = DecisionTreeClassifier()\n",
        "x_train, x_test, y_train, y_test = train_test_split(x, y, test_size=0.3, random_state=42)\n",
        "\n",
        "tree.fit(x_train, y_train)\n",
        "\n",
        "print(\"Accuracy on training set: {:.3f}\".format(tree.score(x_train, y_train)))\n",
        "print(\"Accuracy on test set: {:.3f}\".format(tree.score(x_test, y_test)))\n",
        "\n",
        "DTTrain = tree.score(x_train, y_train)\n",
        "DTTest  = tree.score(x_test, y_test)"
      ]
    },
    {
      "attachments": {},
      "cell_type": "markdown",
      "metadata": {},
      "source": [
        "### Confusion Matrix for Decision Tree"
      ]
    },
    {
      "cell_type": "code",
      "execution_count": 17,
      "metadata": {},
      "outputs": [
        {
          "name": "stdout",
          "output_type": "stream",
          "text": [
            "[[1246  293]\n",
            " [ 287  287]]\n"
          ]
        }
      ],
      "source": [
        "from sklearn.metrics import confusion_matrix\n",
        "from sklearn.model_selection import train_test_split\n",
        "\n",
        "# Split the dataset and fitting the model\n",
        "x_train, x_test, y_train, y_test = train_test_split(x, y, test_size=0.3, random_state=42)\n",
        "tree.fit(x_train, y_train)\n",
        "\n",
        "# Make predictions on the testing set\n",
        "y_pred = tree.predict(x_test)\n",
        "\n",
        "# Creating confusion matrix for Decision Tree\n",
        "confusion_mat = confusion_matrix(y_test, y_pred)\n",
        "print(confusion_mat)\n"
      ]
    },
    {
      "attachments": {},
      "cell_type": "markdown",
      "metadata": {},
      "source": [
        "### Logistic Regression"
      ]
    },
    {
      "cell_type": "code",
      "execution_count": 15,
      "metadata": {},
      "outputs": [
        {
          "name": "stdout",
          "output_type": "stream",
          "text": [
            "Accuracy on test set: 0.8097491717936584\n",
            "Accuracy on train set: 0.8020283975659229\n"
          ]
        }
      ],
      "source": [
        "from sklearn.linear_model import LogisticRegression\n",
        "\n",
        "\n",
        "x_train, x_test, y_train, y_test = train_test_split(x, y, test_size=0.3, random_state=42)\n",
        "\n",
        "clf = LogisticRegression(solver='liblinear')\n",
        "clf.fit(x_train, y_train)\n",
        "\n",
        "# Print the accuracy from the testing data.\n",
        "print(\"Accuracy on test set: {}\".format(clf.score(x_test, y_test)))\n",
        "print(\"Accuracy on train set: {}\".format(clf.score(x_train, y_train)))\n",
        "\n",
        "LRTrain = clf.score(x_train, y_train)\n",
        "LRTest  = clf.score(x_test, y_test)\n"
      ]
    },
    {
      "attachments": {},
      "cell_type": "markdown",
      "metadata": {},
      "source": [
        "### Confusion Matrix for Logistic Regression"
      ]
    },
    {
      "cell_type": "code",
      "execution_count": 16,
      "metadata": {},
      "outputs": [
        {
          "name": "stdout",
          "output_type": "stream",
          "text": [
            "[[1386  153]\n",
            " [ 249  325]]\n"
          ]
        }
      ],
      "source": [
        "from sklearn.metrics import confusion_matrix\n",
        "from sklearn.model_selection import train_test_split\n",
        "\n",
        "# Split the dataset and fitting the model\n",
        "x_train, x_test, y_train, y_test = train_test_split(x, y, test_size=0.3, random_state=42)\n",
        "clf.fit(x_train, y_train)\n",
        "\n",
        "# Make predictions on the testing set\n",
        "y_pred = clf.predict(x_test)\n",
        "\n",
        "# Creating confusion matrix for logistic regression\n",
        "confusion_mat = confusion_matrix(y_test, y_pred)\n",
        "print(confusion_mat)\n"
      ]
    },
    {
      "cell_type": "code",
      "execution_count": 102,
      "metadata": {},
      "outputs": [
        {
          "data": {
            "image/png": "[encoded data removed]",
            "text/plain": [
              "<Figure size 1296x288 with 1 Axes>"
            ]
          },
          "metadata": {
            "needs_background": "light"
          },
          "output_type": "display_data"
        },
        {
          "name": "stdout",
          "output_type": "stream",
          "text": [
            "KNN → 0.7597156398104266%  DT → 0.7075829383886256%  LR → 0.795734597156398%\n"
          ]
        }
      ],
      "source": [
        "#import matplotlib.pyplot as plt\n",
        "\n",
        "names = ['KNN', 'DT', 'LR']\n",
        "values = [knnTest, DTTest, LRTest]\n",
        "\n",
        "plt.figure(figsize=(18, 4))\n",
        "\n",
        "plt.subplot(131)\n",
        "plt.bar(names, values)\n",
        "plt.suptitle('Categorical Plotting')\n",
        "plt.show()\n",
        "print(\"KNN → {}%  DT → {}%  LR → {}%\".format(knnTest, DTTest, LRTest))"
      ]
    },
    {
      "attachments": {},
      "cell_type": "markdown",
      "metadata": {},
      "source": [
        "### Applying Bagging"
      ]
    },
    {
      "cell_type": "code",
      "execution_count": 85,
      "metadata": {},
      "outputs": [
        {
          "name": "stdout",
          "output_type": "stream",
          "text": [
            "After Bagging Logistic Regression Accuracy :0.795734597156398 → 0.7985781990521327\n",
            "After Bagging Decision Tree Accuracy :0.7075829383886256 → 0.7767772511848341\n",
            "After Bagging KNNeighbour Accuracy :0.7597156398104266 → 0.7625592417061612\n"
          ]
        }
      ],
      "source": [
        "from sklearn.ensemble import BaggingClassifier\n",
        "\n",
        "x_train, x_test, y_train, y_test = train_test_split(x, y, test_size=0.3, random_state=42)\n",
        "\n",
        "logreg  = LogisticRegression(solver='liblinear')\n",
        "dectree = DecisionTreeClassifier()\n",
        "knn     = KNeighborsClassifier()\n",
        "\n",
        "\n",
        "bagging_logreg = BaggingClassifier(base_estimator=logreg, n_estimators=10, random_state=42)\n",
        "bagging_logreg.fit(x_train, y_train)\n",
        "\n",
        "bagging_decisiontree = BaggingClassifier(base_estimator=dectree, n_estimators=10, random_state=42)\n",
        "bagging_decisiontree.fit(x_train, y_train)\n",
        "\n",
        "knn_bagging = BaggingClassifier(base_estimator=knn, n_estimators=10, random_state=42)\n",
        "knn_bagging.fit(x_train, y_train)\n",
        "\n",
        "bagging = [bagging_logreg.score(x_test, y_test), bagging_decisiontree.score(x_test, y_test), knn_bagging.score(x_test, y_test)]\n",
        "\n",
        "print(\"After Bagging Logistic Regression Accuracy :{} → {}\" .format(LRTest, bagging_logreg.score(x_test, y_test)))\n",
        "print(\"After Bagging Decision Tree Accuracy :{} → {}\" .format(DTTest, bagging_decisiontree.score(x_test, y_test)))\n",
        "print(\"After Bagging KNNeighbour Accuracy :{} → {}\" .format(knnTest, knn_bagging.score(x_test, y_test)))\n"
      ]
    },
    {
      "attachments": {},
      "cell_type": "markdown",
      "metadata": {},
      "source": [
        "### Applying Adaboost \n",
        "- KNN is not supported for AdaBoost because it does not support sample weights"
      ]
    },
    {
      "cell_type": "code",
      "execution_count": 82,
      "metadata": {},
      "outputs": [
        {
          "name": "stdout",
          "output_type": "stream",
          "text": [
            "After Bagging Logistic Regression Accuracy :0.795734597156398 → 0.7881516587677725\n",
            "After Bagging Decision Tree Accuracy :0.7075829383886256 → 0.7426540284360189\n"
          ]
        }
      ],
      "source": [
        "from sklearn.ensemble import AdaBoostClassifier\n",
        "x_train, x_test, y_train, y_test = train_test_split(x, y, test_size=0.3, random_state=42)\n",
        "\n",
        "\n",
        "adaboost_logreg = AdaBoostClassifier(base_estimator=logreg, n_estimators=10, random_state=42)\n",
        "adaboost_logreg.fit(x_train, y_train)\n",
        "\n",
        "adaboost_decTree = AdaBoostClassifier(base_estimator=dectree, n_estimators=10, random_state=42)\n",
        "adaboost_decTree.fit(x_train, y_train)\n",
        "\n",
        "### KNN is not supported for AdaBoost because it does not support sample weights ###\n",
        "# adaboost_knn = AdaBoostClassifier(base_estimator=knn, n_estimators=10, random_state=42)\n",
        "# adaboost_knn.fit(x_train, y_train)\n",
        "\n",
        "adaboost = [adaboost_logreg.score(x_test, y_test), adaboost_decTree.score(x_test, y_test), 0.0000]\n",
        "\n",
        "print(\"After Adaboosting Logistic Regression Accuracy :{} → {}\" .format(LRTest, adaboost_logreg.score(x_test, y_test)))\n",
        "print(\"After Adaboosting Decision Tree Accuracy :{} → {}\" .format(DTTest, adaboost_decTree.score(x_test, y_test)))\n",
        "#print(\"After Adaboosting KNNeighbour Accuracy :{} → {}\" .format(knnTest, adaboost_knn.score(x_test, y_test)))"
      ]
    },
    {
      "attachments": {},
      "cell_type": "markdown",
      "metadata": {},
      "source": [
        "### Applying Stacking"
      ]
    },
    {
      "cell_type": "code",
      "execution_count": 83,
      "metadata": {},
      "outputs": [
        {
          "name": "stdout",
          "output_type": "stream",
          "text": [
            "After Bagging Logistic Regression Accuracy : 0.795734597156398 → 0.7966824644549763\n",
            "After Bagging Decision Tree Accuracy : 0.7075829383886256 → 0.7104265402843601\n",
            "After Bagging KNNeighbour Accuracy : 0.7597156398104266 → 0.7582938388625592\n"
          ]
        }
      ],
      "source": [
        "from sklearn.ensemble import StackingClassifier\n",
        "x_train, x_test, y_train, y_test = train_test_split(x, y, test_size=0.3, random_state=42)\n",
        "\n",
        "\n",
        "stacking_logreg = StackingClassifier(estimators=[('lr', logreg), ('dt', dectree), ('knn', knn)], final_estimator=LogisticRegression())\n",
        "stacking_logreg.fit(x_train, y_train)\n",
        "\n",
        "stacking_decTree = StackingClassifier(estimators=[('lr', logreg), ('dt', dectree), ('knn', knn)], final_estimator=DecisionTreeClassifier())\n",
        "stacking_decTree.fit(x_train, y_train)\n",
        "\n",
        "stacking_knn = StackingClassifier(estimators=[('lr', logreg), ('dt', dectree), ('knn', knn)], final_estimator=KNeighborsClassifier())\n",
        "stacking_knn.fit(x_train, y_train)\n",
        "\n",
        "stacking = [stacking_logreg.score(x_test, y_test), stacking_decTree.score(x_test, y_test), stacking_knn.score(x_test, y_test)]\n",
        "\n",
        "print(\"After Bagging Logistic Regression Accuracy : {} → {}\" .format(LRTest, stacking_logreg.score(x_test, y_test)))\n",
        "print(\"After Bagging Decision Tree Accuracy : {} → {}\" .format(DTTest, stacking_decTree.score(x_test, y_test)))\n",
        "print(\"After Bagging KNNeighbour Accuracy : {} → {}\" .format(knnTest, stacking_knn.score(x_test, y_test)))"
      ]
    },
    {
      "attachments": {},
      "cell_type": "markdown",
      "metadata": {},
      "source": [
        "### Logistic Regression after Adaboosting, Bagging and Stacking"
      ]
    },
    {
      "cell_type": "code",
      "execution_count": 93,
      "metadata": {},
      "outputs": [
        {
          "data": {
            "image/png": "[encoded data removed]",
            "text/plain": [
              "<Figure size 1800x576 with 1 Axes>"
            ]
          },
          "metadata": {
            "needs_background": "light"
          },
          "output_type": "display_data"
        },
        {
          "name": "stdout",
          "output_type": "stream",
          "text": [
            "After Logistic Regression Accuracy :79.5734597156398%\n",
            "After Adaboosting Logistic Regression Accuracy :79.5734597156398% → 78.81516587677724%\n",
            "After Bagging Logistic Regression Accuracy :79.5734597156398% → 79.85781990521326%\n",
            "After Stacking Logistic Regression Accuracy:79.5734597156398% → 79.66824644549763%\n"
          ]
        }
      ],
      "source": [
        "\n",
        "names = ['LR', 'Adaboosted', 'Bagging', 'Stacking']\n",
        "values = [LRTest, adaboost[0], bagging[0], stacking[0]]\n",
        "\n",
        "plt.figure(figsize=(25, 5))\n",
        "\n",
        "plt.subplot(131)\n",
        "plt.bar(names, values)\n",
        "plt.suptitle('Ensembling on Logistic Regression')\n",
        "plt.show()\n",
        "\n",
        "print(\"After Logistic Regression Accuracy :{}%\" .format(LRTest*100))\n",
        "print(\"After Adaboosting Logistic Regression Accuracy :{}% → {}%\" .format(LRTest*100, adaboost[0]*100))\n",
        "print(\"After Bagging Logistic Regression Accuracy :{}% → {}%\" .format(LRTest*100, bagging[0]*100))\n",
        "print(\"After Stacking Logistic Regression Accuracy:{}% → {}%\" .format(LRTest*100, stacking[0]*100))"
      ]
    },
    {
      "attachments": {},
      "cell_type": "markdown",
      "metadata": {},
      "source": [
        "### KNN After Adaboosting, Bagging and Stacking"
      ]
    },
    {
      "cell_type": "code",
      "execution_count": 100,
      "metadata": {},
      "outputs": [
        {
          "data": {
            "image/png": "[encoded data removed]",
            "text/plain": [
              "<Figure size 1296x360 with 1 Axes>"
            ]
          },
          "metadata": {
            "needs_background": "light"
          },
          "output_type": "display_data"
        },
        {
          "name": "stdout",
          "output_type": "stream",
          "text": [
            "After KNNeighbours Accuracy :75.97156398104265%\n",
            "After Bagging KNNeighbours Accuracy :75.97156398104265% → 76.25592417061611%\n",
            "After Stacking KNNeighbours Accuracy:75.97156398104265% → 75.82938388625593%\n"
          ]
        }
      ],
      "source": [
        "names = ['KNN', 'Bagging', 'Stacking']\n",
        "values = [knnTest, bagging[0], stacking[0]]\n",
        "\n",
        "plt.figure(figsize=(18, 5))\n",
        "\n",
        "plt.subplot(131)\n",
        "plt.bar(names, values)\n",
        "plt.suptitle('Ensembling on KNNeighbours')\n",
        "plt.show()\n",
        "\n",
        "print(\"After KNNeighbours Accuracy :{}%\" .format(knnTest*100))\n",
        "print(\"After Bagging KNNeighbours Accuracy :{}% → {}%\" .format(knnTest*100, bagging[2]*100))\n",
        "print(\"After Stacking KNNeighbours Accuracy:{}% → {}%\" .format(knnTest*100, stacking[2]*100))"
      ]
    },
    {
      "attachments": {},
      "cell_type": "markdown",
      "metadata": {},
      "source": [
        "### Decision Tree After Adaboosting, Bagging, Stacking"
      ]
    },
    {
      "cell_type": "code",
      "execution_count": 98,
      "metadata": {},
      "outputs": [
        {
          "data": {
            "image/png": "[encoded data removed]",
            "text/plain": [
              "<Figure size 1800x576 with 1 Axes>"
            ]
          },
          "metadata": {
            "needs_background": "light"
          },
          "output_type": "display_data"
        },
        {
          "name": "stdout",
          "output_type": "stream",
          "text": [
            "After Decision Tree Accuracy :70.75829383886256%\n",
            "After Adaboosting Decision Tree Accuracy :70.75829383886256% → 74.26540284360189%\n",
            "After Bagging Decision Tree Accuracy :70.75829383886256% → 77.67772511848341%\n",
            "After Stacking Decision Tree Accuracy:70.75829383886256% → 71.04265402843602%\n"
          ]
        }
      ],
      "source": [
        "names = ['DT', 'Adaboost', 'Bagging', 'Stacking']\n",
        "values = [DTTest, adaboost[1], bagging[1], stacking[1]]\n",
        "\n",
        "plt.figure(figsize=(25, 8))\n",
        "\n",
        "plt.subplot(131)\n",
        "plt.bar(names, values)\n",
        "plt.suptitle('Ensembling on Decision Tree')\n",
        "plt.show()\n",
        "\n",
        "print(\"After Decision Tree Accuracy :{}%\" .format(DTTest*100))\n",
        "print(\"After Adaboosting Decision Tree Accuracy :{}% → {}%\" .format(DTTest*100, adaboost[1]*100))\n",
        "print(\"After Bagging Decision Tree Accuracy :{}% → {}%\" .format(DTTest*100, bagging[1]*100))\n",
        "print(\"After Stacking Decision Tree Accuracy:{}% → {}%\" .format(DTTest*100, stacking[1]*100))"
      ]
    },
    {
      "attachments": {},
      "cell_type": "markdown",
      "metadata": {},
      "source": [
        "### add confusion matrix for → knn, dt, lr"
      ]
    }
  ],
  "metadata": {
    "colab": {
      "collapsed_sections": [],
      "name": "wine prediction.ipynb",
      "provenance": []
    },
    "kernelspec": {
      "display_name": "Python 3",
      "name": "python3"
    },
    "language_info": {
      "codemirror_mode": {
        "name": "ipython",
        "version": 3
      },
      "file_extension": ".py",
      "mimetype": "text/x-python",
      "name": "python",
      "nbconvert_exporter": "python",
      "pygments_lexer": "ipython3",
      "version": "3.10.4"
    }
  },
  "nbformat": 4,
  "nbformat_minor": 0
}
